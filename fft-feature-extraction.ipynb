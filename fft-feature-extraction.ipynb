{
 "cells": [
  {
   "cell_type": "code",
   "execution_count": 20,
   "id": "88ef0e0f",
   "metadata": {},
   "outputs": [
    {
     "name": "stdout",
     "output_type": "stream",
     "text": [
      "mean 317808\n",
      "min 200405\n",
      "max 840169\n",
      "median 271056\n",
      "mode 200405.87551598472\n"
     ]
    }
   ],
   "source": [
    "# features for 1 hour data\n",
    "# extend to 1 patient\n",
    "# add more features - like skewness etc.,\n",
    "\n",
    "\n",
    "import numpy as np\n",
    "import matplotlib.pyplot as plt\n",
    "from scipy.io import loadmat\n",
    "from scipy import stats as st\n",
    "import warnings\n",
    "warnings.filterwarnings(\"ignore\")\n",
    "\n",
    "\n",
    "file = loadmat('/Volumes/Bharadwaj/PhysioNet/i-care-international-cardiac-arrest-research-consortium-database-1.0/training/ICARE_0284/ICARE_0284_06.mat')\n",
    "arr = file['val']\n",
    "\n",
    "num_channels = 18\n",
    "sampling_rate = 100 \n",
    "duration = 300  \n",
    "num_samples = sampling_rate * duration\n",
    "time = np.arange(0, duration, 1/sampling_rate)\n",
    "\n",
    "stack_all_channels_noise_removed = []\n",
    "\n",
    "for i in range(num_channels):\n",
    "\n",
    "    eeg_data = arr[i] \n",
    "    fft_results = np.fft.fft(eeg_data)\n",
    "    freq_bins = np.fft.fftfreq(num_samples, 1/sampling_rate) \n",
    "    freq_indices = np.where((freq_bins >= 0) & (freq_bins <= 5))[0]\n",
    "    fft_values_0_to_5_hz = fft_results[freq_indices]\n",
    "    \n",
    "    \n",
    "    fft_greater_point2hz = []\n",
    "    for i in fft_values_0_to_5_hz:\n",
    "        if i > 200000: # some threshold to remove noise\n",
    "            fft_greater_point2hz.append(i)\n",
    "    \n",
    "    for i in fft_greater_point2hz:\n",
    "        stack_all_channels_noise_removed.append(i)\n",
    "        \n",
    "        \n",
    "stack_all_channels_noise_removed = np.array(stack_all_channels_noise_removed)\n",
    "\n",
    "mean_0284_06_noiseless = int(np.mean(stack_all_channels_noise_removed))\n",
    "print('mean',mean_0284_06_noiseless)\n",
    "min_0284_06_noiseless = int(np.min(stack_all_channels_noise_removed))\n",
    "print('min',min_0284_06_noiseless)\n",
    "max_0284_06_noiseless = int(np.max(stack_all_channels_noise_removed))\n",
    "print('max',max_0284_06_noiseless)\n",
    "median_0284_06_noiseless = int(np.median(stack_all_channels_noise_removed))\n",
    "print('median',median_0284_06_noiseless)\n",
    "mode_0284_06_noiseless = np.real(st.mode(stack_all_channels_noise_removed)[0])\n",
    "mode_0284_06_noiseless = mode_0284_06_noiseless[0]\n",
    "print('mode',mode_0284_06_noiseless)\n",
    "\n",
    "# add more"
   ]
  }
 ],
 "metadata": {
  "kernelspec": {
   "display_name": "Python 3 (ipykernel)",
   "language": "python",
   "name": "python3"
  },
  "language_info": {
   "codemirror_mode": {
    "name": "ipython",
    "version": 3
   },
   "file_extension": ".py",
   "mimetype": "text/x-python",
   "name": "python",
   "nbconvert_exporter": "python",
   "pygments_lexer": "ipython3",
   "version": "3.10.12"
  }
 },
 "nbformat": 4,
 "nbformat_minor": 5
}
