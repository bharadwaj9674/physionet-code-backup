{
 "cells": [
  {
   "cell_type": "markdown",
   "id": "02cab3d7",
   "metadata": {},
   "source": [
    "## Get maximum length signal in each hour\n",
    "## Impute zero with rest of the signal\n",
    "## Stack horizontally (x-axis) (By taking mean of all channels)\n",
    "## Get fourier and pass them as signals"
   ]
  },
  {
   "cell_type": "markdown",
   "id": "2494bb8f",
   "metadata": {},
   "source": [
    "# Getting maximum length signal in each hour upto 72"
   ]
  },
  {
   "cell_type": "code",
   "execution_count": null,
   "id": "bf2b510a",
   "metadata": {
    "scrolled": true
   },
   "outputs": [],
   "source": [
    "import os\n",
    "import re\n",
    "\n",
    "def process_file(file_path, encoding='utf-8'):\n",
    "    with open(file_path, 'r', encoding=encoding, errors='replace') as file:\n",
    "        content = file.read()\n",
    "        first_line = file.readline().strip()\n",
    "        line = (f\"First line of {file_path}: {first_line}\")\n",
    "        hour = int(line[75:78])\n",
    "\n",
    "        start_time_match = re.search(r\"#Start time: (\\d{2}:\\d{2}:\\d{2})\", content)\n",
    "        if start_time_match:\n",
    "            start_time = start_time_match.group(1)\n",
    "            print(f\"Start time: {start_time}\")\n",
    "\n",
    "        # Extract end time using regular expression\n",
    "        end_time_match = re.search(r\"#End time: (\\d{2}:\\d{2}:\\d{2})\", content)\n",
    "        if end_time_match:\n",
    "            end_time = end_time_match.group(1)\n",
    "            print(f\"End time: {end_time}\")        \n",
    "\n",
    "def iterate_through_directory(directory):\n",
    "    for item in os.listdir(directory):\n",
    "        item_path = os.path.join(directory, item)\n",
    "        if os.path.isfile(item_path):\n",
    "            if item.endswith('EEG.hea'):  # Adjust the extension as needed\n",
    "                process_file(item_path)\n",
    "        elif os.path.isdir(item_path):\n",
    "            iterate_through_directory(item_path)\n",
    "\n",
    "# Specify the root directory where your files and subdirectories are located\n",
    "root_directory = '/Volumes/Bharadwaj/physionet-official/data_nan/0346'\n",
    "\n",
    "# Start iterating through the root directory\n",
    "iterate_through_directory(root_directory)\n"
   ]
  },
  {
   "cell_type": "markdown",
   "id": "958efe10",
   "metadata": {},
   "source": [
    "For most of the signals there is complete 1 hour data in the file. So assuming that atleast we will get 1 patient data of 1 hour while checking all patients. Since patients data should not be last. Just imputing with zero where signal is not there."
   ]
  },
  {
   "cell_type": "markdown",
   "id": "b61b383c",
   "metadata": {},
   "source": [
    "# Sampling data"
   ]
  },
  {
   "cell_type": "markdown",
   "id": "5ca72229",
   "metadata": {},
   "source": [
    "Before imputing with zero, we have to sample the signal so that we can know how many components will present in each signal, so we can impute rest with zero."
   ]
  },
  {
   "cell_type": "code",
   "execution_count": 2,
   "id": "060919c5",
   "metadata": {},
   "outputs": [
    {
     "name": "stdout",
     "output_type": "stream",
     "text": [
      "Sampling frequency: 256\n"
     ]
    }
   ],
   "source": [
    "# Content of the file\n",
    "\n",
    "file_path = '/Volumes/Bharadwaj/physionet-official/data_nan/0346/0346_023_037_EEG.hea'\n",
    "encoding='utf-8'\n",
    "\n",
    "with open(file_path, 'r', encoding=encoding, errors='replace') as file:\n",
    "        file_content = file.read()\n",
    "\n",
    "first_line_tokens = file_content.strip().split()\n",
    "sampling_frequency = int(first_line_tokens[2])\n",
    "print(f\"Sampling frequency: {sampling_frequency}\")\n"
   ]
  },
  {
   "cell_type": "code",
   "execution_count": 3,
   "id": "f24a5d20",
   "metadata": {},
   "outputs": [
    {
     "name": "stdout",
     "output_type": "stream",
     "text": [
      "[[26894 26859 26865 ... 27401 27429 27451]\n",
      " [24642 24606 24601 ... 25474 25492 25505]\n",
      " [24731 24716 24646 ... 25491 25483 25453]\n",
      " ...\n",
      " [26037 26422 26559 ... 26113 26416 26618]\n",
      " [25232 26402 25125 ... 25570 26289 25064]\n",
      " [24386 24614 24786 ... 24414 24703 24873]]\n",
      "Original signal length: 21\n",
      "Resampled signal length: 8\n"
     ]
    }
   ],
   "source": [
    "import numpy as np\n",
    "from scipy.signal import resample\n",
    "from scipy.io import loadmat\n",
    "\n",
    "file = loadmat('/Volumes/Bharadwaj/physionet-official/data_nan/0346/0346_023_037_EEG.mat')\n",
    "arr = file['val']\n",
    "print(arr)\n",
    "\n",
    "# Original signal and its sampling rate\n",
    "original_signal = arr  # Replace with your signal data\n",
    "original_sampling_rate = sampling_frequency  # Replace with your original sampling rate (in Hz)\n",
    "\n",
    "# Target sampling rate\n",
    "target_sampling_rate = 100  # Resampling to 100 Hz\n",
    "\n",
    "# Calculate the resampling ratio\n",
    "resampling_ratio = target_sampling_rate / original_sampling_rate\n",
    "\n",
    "# Calculate the new length of the resampled signal\n",
    "new_length = int(len(original_signal) * resampling_ratio)\n",
    "\n",
    "# Resample the signal\n",
    "resampled_signal = resample(original_signal, new_length)\n",
    "\n",
    "# Print the lengths of the original and resampled signals\n",
    "print(f\"Original signal length: {len(original_signal)}\")\n",
    "print(f\"Resampled signal length: {len(resampled_signal)}\")"
   ]
  },
  {
   "cell_type": "markdown",
   "id": "d1169de5",
   "metadata": {},
   "source": [
    "### Don't mean channels, signals get mixed up"
   ]
  },
  {
   "cell_type": "code",
   "execution_count": null,
   "id": "fc6465cb",
   "metadata": {},
   "outputs": [],
   "source": []
  },
  {
   "cell_type": "code",
   "execution_count": null,
   "id": "116fabbf",
   "metadata": {},
   "outputs": [],
   "source": []
  }
 ],
 "metadata": {
  "kernelspec": {
   "display_name": "Python 3 (ipykernel)",
   "language": "python",
   "name": "python3"
  },
  "language_info": {
   "codemirror_mode": {
    "name": "ipython",
    "version": 3
   },
   "file_extension": ".py",
   "mimetype": "text/x-python",
   "name": "python",
   "nbconvert_exporter": "python",
   "pygments_lexer": "ipython3",
   "version": "3.10.12"
  }
 },
 "nbformat": 4,
 "nbformat_minor": 5
}
