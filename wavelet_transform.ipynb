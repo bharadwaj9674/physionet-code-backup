{
 "cells": [
  {
   "cell_type": "code",
   "execution_count": 2,
   "id": "73054041",
   "metadata": {
    "scrolled": true
   },
   "outputs": [],
   "source": [
    "import pywt\n",
    "import numpy as np\n",
    "import matplotlib.pyplot as plt\n",
    "from scipy.io import loadmat\n",
    "import mne\n",
    "\n",
    "\n",
    "mat_data = loadmat('/Volumes/Bharadwaj/PhysioNet/i-care-international-cardiac-arrest-research-consortium-database-1.0/training/ICARE_0284/ICARE_0284_05.mat')\n",
    "eeg_signal = mat_data['val']"
   ]
  },
  {
   "cell_type": "code",
   "execution_count": null,
   "id": "ad1dd2c3",
   "metadata": {},
   "outputs": [],
   "source": []
  },
  {
   "cell_type": "code",
   "execution_count": null,
   "id": "196e694b",
   "metadata": {},
   "outputs": [],
   "source": []
  },
  {
   "cell_type": "code",
   "execution_count": 5,
   "id": "7be4ee40",
   "metadata": {},
   "outputs": [
    {
     "name": "stdout",
     "output_type": "stream",
     "text": [
      "(18,)\n",
      "(18,)\n",
      "(18,)\n",
      "(18,)\n"
     ]
    }
   ],
   "source": [
    "# trail\n",
    "\n",
    "import pywt\n",
    "import numpy as np\n",
    "\n",
    "sampling_frequency = 100\n",
    "wavelet_name = 'morl'\n",
    "\n",
    "def coeffs(eeg_signal, freqs, wavelet_name, sampling_frequency):\n",
    "    cwt_coeffs, _ = pywt.cwt(eeg_signal, freqs, wavelet_name, sampling_frequency)\n",
    "    return cwt_coeffs\n",
    "\n",
    "def psd_values(cwt_coeffs, sampling_frequency):\n",
    "    psd = (abs(cwt_coeffs)**2).mean(axis=0) / sampling_frequency\n",
    "    return psd\n",
    "\n",
    "freqs = np.arange(8, 12, 0.5)  # frequency range of interest\n",
    "\n",
    "alpha = coeffs(eeg_signal, np.arange(8, 12, 0.5), wavelet_name, sampling_frequency)\n",
    "beta = coeffs(eeg_signal, np.arange(12, 30, 0.5), wavelet_name, sampling_frequency)\n",
    "delta = coeffs(eeg_signal, np.arange(0.5, 4, 0.5), wavelet_name, sampling_frequency)\n",
    "theta = coeffs(eeg_signal, np.arange(4, 8, 0.5), wavelet_name, sampling_frequency)\n",
    "\n",
    "alpha_psd = psd_values(alpha, sampling_frequency)\n",
    "alpha_psd_mean = alpha_psd.mean(axis=1)\n",
    "print(alpha_psd_mean.shape)\n",
    "\n",
    "beta_psd = psd_values(beta, sampling_frequency)\n",
    "beta_psd_mean = beta_psd.mean(axis=1)\n",
    "print(beta_psd_mean.shape)\n",
    "\n",
    "\n",
    "delta_psd = psd_values(delta, sampling_frequency)\n",
    "delta_psd_mean = delta_psd.mean(axis=1)\n",
    "print(delta_psd_mean.shape)\n",
    "\n",
    "\n",
    "theta_psd = psd_values(theta, sampling_frequency)\n",
    "theta_psd_mean = theta_psd.mean(axis=1)\n",
    "print(theta_psd_mean.shape)"
   ]
  },
  {
   "cell_type": "code",
   "execution_count": null,
   "id": "36618e50",
   "metadata": {},
   "outputs": [],
   "source": []
  },
  {
   "cell_type": "code",
   "execution_count": null,
   "id": "d5b1c456",
   "metadata": {},
   "outputs": [],
   "source": []
  },
  {
   "cell_type": "code",
   "execution_count": null,
   "id": "59b8a7a7",
   "metadata": {},
   "outputs": [],
   "source": []
  },
  {
   "cell_type": "code",
   "execution_count": null,
   "id": "d2edca18",
   "metadata": {},
   "outputs": [],
   "source": []
  },
  {
   "cell_type": "code",
   "execution_count": null,
   "id": "b1bb0d06",
   "metadata": {},
   "outputs": [],
   "source": []
  },
  {
   "cell_type": "code",
   "execution_count": null,
   "id": "6d3ec4b2",
   "metadata": {},
   "outputs": [],
   "source": []
  },
  {
   "cell_type": "code",
   "execution_count": 4,
   "id": "80eceb3f",
   "metadata": {},
   "outputs": [
    {
     "name": "stdout",
     "output_type": "stream",
     "text": [
      "(8,)\n",
      "(36,)\n",
      "(7,)\n",
      "(8,)\n"
     ]
    }
   ],
   "source": [
    "# trail\n",
    "\n",
    "import pywt\n",
    "import numpy as np\n",
    "import pywt\n",
    "import numpy as np\n",
    "import matplotlib.pyplot as plt\n",
    "from scipy.io import loadmat\n",
    "import mne\n",
    "\n",
    "\n",
    "mat_data = loadmat('/Volumes/Bharadwaj/PhysioNet/i-care-international-cardiac-arrest-research-consortium-database-1.0/training/ICARE_0284/ICARE_0284_05.mat')\n",
    "eeg_signal = mat_data['val']\n",
    "\n",
    "sampling_frequency = 100\n",
    "wavelet_name = 'morl'\n",
    "\n",
    "def coeffs(eeg_signal, freqs, wavelet_name, sampling_frequency):\n",
    "    cwt_coeffs, _ = pywt.cwt(eeg_signal, freqs, wavelet_name, sampling_frequency)\n",
    "    return cwt_coeffs\n",
    "\n",
    "def psd_values(cwt_coeffs, sampling_frequency):\n",
    "    psd = (abs(cwt_coeffs)**2).mean(axis=1) / sampling_frequency\n",
    "    return psd\n",
    "\n",
    "freqs = np.arange(8, 12, 0.5)  # frequency range of interest\n",
    "\n",
    "alpha = coeffs(eeg_signal, np.arange(8, 12, 0.5), wavelet_name, sampling_frequency)\n",
    "beta = coeffs(eeg_signal, np.arange(12, 30, 0.5), wavelet_name, sampling_frequency)\n",
    "delta = coeffs(eeg_signal, np.arange(0.5, 4, 0.5), wavelet_name, sampling_frequency)\n",
    "theta = coeffs(eeg_signal, np.arange(4, 8, 0.5), wavelet_name, sampling_frequency)\n",
    "\n",
    "alpha_psd = psd_values(alpha, sampling_frequency)\n",
    "alpha_psd_mean = alpha_psd.mean(axis=1)\n",
    "print(alpha_psd_mean.shape)\n",
    "\n",
    "beta_psd = psd_values(beta, sampling_frequency)\n",
    "beta_psd_mean = beta_psd.mean(axis=1)\n",
    "print(beta_psd_mean.shape)\n",
    "\n",
    "\n",
    "delta_psd = psd_values(delta, sampling_frequency)\n",
    "delta_psd_mean = delta_psd.mean(axis=1)\n",
    "print(delta_psd_mean.shape)\n",
    "\n",
    "\n",
    "theta_psd = psd_values(theta, sampling_frequency)\n",
    "theta_psd_mean = theta_psd.mean(axis=1)\n",
    "print(theta_psd_mean.shape)"
   ]
  }
 ],
 "metadata": {
  "kernelspec": {
   "display_name": "Python 3 (ipykernel)",
   "language": "python",
   "name": "python3"
  },
  "language_info": {
   "codemirror_mode": {
    "name": "ipython",
    "version": 3
   },
   "file_extension": ".py",
   "mimetype": "text/x-python",
   "name": "python",
   "nbconvert_exporter": "python",
   "pygments_lexer": "ipython3",
   "version": "3.9.7"
  }
 },
 "nbformat": 4,
 "nbformat_minor": 5
}
