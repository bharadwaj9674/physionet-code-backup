{
 "cells": [
  {
   "cell_type": "code",
   "execution_count": 40,
   "id": "ad088b6a",
   "metadata": {},
   "outputs": [],
   "source": [
    "import numpy as np\n",
    "import matplotlib.pyplot as plt\n",
    "import librosa\n",
    "import pandas as pd\n",
    "import numpy as np\n",
    "import matplotlib.pyplot as plt\n",
    "from scipy import pi\n",
    "from scipy.fftpack import fft\n",
    "from scipy.io import loadmat\n",
    "from scipy import stats\n",
    "from scipy.stats import skew, kurtosis\n",
    "\n",
    "\n",
    "\n",
    "file = loadmat('/Volumes/Bharadwaj/physionet-official/data/0363/0363_001_006_EEG.mat')\n",
    "data = file['val']\n",
    "signal = np.mean(data, axis=0)\n",
    "\n",
    "# Assuming you have the EEG signal loaded in the 'signal' variable and a known sampling rate of 100 Hz\n",
    "eeg_signal = signal.astype(np.float32)  # Convert to floating-point\n",
    "sampling_rate = 100\n",
    "\n",
    "# Calculate the length of the signal in seconds and frames\n",
    "signal_duration = len(eeg_signal) / sampling_rate\n",
    "n_frames = int(signal_duration * sampling_rate)\n",
    "\n",
    "n_fft = 2048\n",
    "hop_length = n_fft // 2  # You can adjust this value for overlap\n",
    "\n",
    "# Initialize an array to store spectrogram data\n",
    "spectrogram_data = []\n",
    "\n",
    "# Process the signal in chunks\n",
    "for i in range(0, len(eeg_signal) - n_frames + 1, n_frames):\n",
    "    chunk = eeg_signal[i:i+n_frames]\n",
    "    D = np.abs(librosa.stft(chunk, n_fft=n_fft, hop_length=hop_length))\n",
    "    spectrogram_data.append(D)\n",
    "\n",
    "# Combine the spectrogram chunks into a single array\n",
    "spectrogram = np.concatenate(spectrogram_data, axis=1)\n",
    "\n",
    "# Load your mel-spectrogram data\n",
    "# Replace 'mel_spectrogram' with your actual mel-spectrogram data\n",
    "mel_spectrogram = spectrogram\n",
    "\n",
    "# Calculate the Mel filterbank frequencies\n",
    "mel_frequencies = librosa.mel_frequencies(n_mels=mel_spectrogram.shape[0], fmin=0, fmax=5)\n",
    "\n",
    "# Find the indices corresponding to the delta band (0-5 Hz)\n",
    "delta_indices = np.where((mel_frequencies >= 0) & (mel_frequencies <= 5))[0]\n",
    "\n",
    "# Extract delta band data from the mel-spectrogram\n",
    "delta_band_data = mel_spectrogram[delta_indices, :]"
   ]
  },
  {
   "cell_type": "code",
   "execution_count": 24,
   "id": "ee044a44",
   "metadata": {},
   "outputs": [],
   "source": [
    "delta_band_data_mean = np.mean(delta_band_data, axis=0)"
   ]
  },
  {
   "cell_type": "code",
   "execution_count": 48,
   "id": "f752603d",
   "metadata": {},
   "outputs": [
    {
     "name": "stdout",
     "output_type": "stream",
     "text": [
      "[26426, 3188.3123, 23945, 71361, 26092, 25988.555, 11.110279187682183, 134.12647007448263]\n"
     ]
    },
    {
     "name": "stderr",
     "output_type": "stream",
     "text": [
      "/var/folders/r4/6g0q_vcj3w59527769q2l6jw0000gn/T/ipykernel_18677/1318273189.py:8: FutureWarning: Unlike other reduction functions (e.g. `skew`, `kurtosis`), the default behavior of `mode` typically preserves the axis it acts along. In SciPy 1.11.0, this behavior will change: the default value of `keepdims` will become False, the `axis` over which the statistic is taken will be eliminated, and the value None will no longer be accepted. Set `keepdims` to True or False to avoid this warning.\n",
      "  mode_val = np.real(stats.mode(delta_band_data_mean)[0])\n"
     ]
    }
   ],
   "source": [
    "# features \n",
    "\n",
    "mean_val = int(np.mean(delta_band_data_mean))\n",
    "std_val = np.std(delta_band_data_mean)\n",
    "min_val = int(np.min(delta_band_data_mean))\n",
    "max_val = int(np.max(delta_band_data_mean))\n",
    "median_val = int(np.median(delta_band_data_mean))\n",
    "mode_val = np.real(stats.mode(delta_band_data_mean)[0])\n",
    "mode_val = mode_val[0]\n",
    "skewness_val = skew(delta_band_data_mean)\n",
    "kurtosis_val = kurtosis(delta_band_data_mean)\n",
    "\n",
    "\n",
    "features = [mean_val, std_val, min_val, max_val, median_val, mode_val, skewness_val, kurtosis_val]\n",
    "print(features)\n",
    "\n",
    "\n"
   ]
  },
  {
   "cell_type": "code",
   "execution_count": null,
   "id": "fdaa10a5",
   "metadata": {},
   "outputs": [],
   "source": []
  }
 ],
 "metadata": {
  "kernelspec": {
   "display_name": "Python 3 (ipykernel)",
   "language": "python",
   "name": "python3"
  },
  "language_info": {
   "codemirror_mode": {
    "name": "ipython",
    "version": 3
   },
   "file_extension": ".py",
   "mimetype": "text/x-python",
   "name": "python",
   "nbconvert_exporter": "python",
   "pygments_lexer": "ipython3",
   "version": "3.10.12"
  }
 },
 "nbformat": 4,
 "nbformat_minor": 5
}
